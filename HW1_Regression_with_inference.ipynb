{
 "cells": [
  {
   "cell_type": "markdown",
   "metadata": {
    "id": "IsPer4g5FgRB"
   },
   "source": [
    "# Домашнее задание №1\n",
    "\n",
    "В этом домашнем задании вам предлагается обучить модель регрессии для предсказания стоимости автомобилей, а также реализовать веб-сервис для применения построенной модели на новых данных.\n",
    "\n",
    "> Оценка за домашку = min(ваш балл, 10)\n"
   ]
  },
  {
   "cell_type": "markdown",
   "metadata": {
    "id": "RBxaROjhnExd"
   },
   "source": [
    "Задания, <font color='#9933CC'>выделенные фиолетовым</font>, требуют от вас написания кода.\n",
    "\n",
    "А вопросы, <font color='#FF6600'>выделенные оранжевым</font>, текстового ответа.\n",
    "\n",
    "Оцениваются как код, так и ответы на вопросы. Если нет одного и/или другого, то часть баллов за соответствующее задание без колебаний снимается."
   ]
  },
  {
   "cell_type": "code",
   "execution_count": null,
   "metadata": {
    "id": "bKXD33FOsnGd"
   },
   "outputs": [],
   "source": [
    "import pandas as pd\n",
    "import numpy as np\n",
    "import matplotlib.pyplot as plt\n",
    "import random\n",
    "import seaborn as sns\n",
    "\n",
    "random.seed(42)\n",
    "np.random.seed(42)"
   ]
  },
  {
   "cell_type": "markdown",
   "metadata": {
    "id": "GAzbEw1ctU4f"
   },
   "source": [
    "Ниже ответьте на вопрос <font color='#FF6600'>\n",
    "\"Для чего фиксируем сиды в домашках?\"</font>"
   ]
  },
  {
   "cell_type": "code",
   "execution_count": null,
   "metadata": {
    "colab": {
     "base_uri": "https://localhost:8080/"
    },
    "id": "lHsDF04utgDC",
    "outputId": "8b63192b-babe-492b-c634-6e7b0bc9b901"
   },
   "outputs": [],
   "source": [
    "print(\"Чтобы все получили результаты, которые можно объективно (без влияния рандома) сравнить друг с другом\")"
   ]
  },
  {
   "cell_type": "markdown",
   "metadata": {
    "id": "ykzSVgN7q-xZ"
   },
   "source": [
    "# Часть 1 (2.5 балла + 0.75) | EDA"
   ]
  },
  {
   "cell_type": "markdown",
   "metadata": {
    "id": "e-4bM9CKAtCj"
   },
   "source": [
    "## Простейший EDA и обработка признаков (1.5 балла + 0.25)"
   ]
  },
  {
   "cell_type": "code",
   "execution_count": null,
   "metadata": {
    "id": "FniH6eCGFSi_"
   },
   "outputs": [],
   "source": [
    "df_train = pd.read_csv('https://raw.githubusercontent.com/hse-mlds/ml/main/hometasks/HT1/cars_train.csv')\n",
    "df_test = pd.read_csv('https://raw.githubusercontent.com/hse-mlds/ml/main/hometasks/HT1/cars_test.csv')\n",
    "\n",
    "print(\"Train data shape:\", df_train.shape)\n",
    "print(\"Test data shape: \", df_test.shape)"
   ]
  },
  {
   "cell_type": "markdown",
   "metadata": {
    "id": "spIXQ6zwxT9I"
   },
   "source": [
    "(0.15 балла) <font color='#9933CC'>Отобразите 10 **случайных** строк тренировочного датасета</font>"
   ]
  },
  {
   "cell_type": "code",
   "execution_count": null,
   "metadata": {
    "id": "Zesb2SG5xf_q"
   },
   "outputs": [],
   "source": [
    "df_train.sample(10)"
   ]
  },
  {
   "cell_type": "markdown",
   "metadata": {
    "id": "c5UQKCGTxogp"
   },
   "source": [
    "(0.1 балла) <font color='#9933CC'>Отобразите первые 5 и последние 5 объектов тестового датасета</font>"
   ]
  },
  {
   "cell_type": "code",
   "execution_count": null,
   "metadata": {
    "id": "-MueJLE4rO1g"
   },
   "outputs": [],
   "source": [
    "df_test.head(5)"
   ]
  },
  {
   "cell_type": "code",
   "execution_count": null,
   "metadata": {},
   "outputs": [],
   "source": [
    "df_test.tail(5)"
   ]
  },
  {
   "cell_type": "markdown",
   "metadata": {
    "id": "6fAcrLkBygwE"
   },
   "source": [
    "(0.1 балла) <font color='#9933CC'>Посчитайте основные статистики как по числовым, так и по категориальным столбцам для трейна и теста</font>. \n",
    "> Подсказка: ``.describe()`` с нужным(и) аргументом(-ами)\n",
    "\n"
   ]
  },
  {
   "cell_type": "code",
   "execution_count": null,
   "metadata": {},
   "outputs": [],
   "source": [
    "df_train.dtypes"
   ]
  },
  {
   "cell_type": "code",
   "execution_count": null,
   "metadata": {},
   "outputs": [],
   "source": [
    "df_train.describe(include = ['object'])"
   ]
  },
  {
   "cell_type": "code",
   "execution_count": null,
   "metadata": {
    "id": "eaiIQCvMrPUb"
   },
   "outputs": [],
   "source": [
    "df_train.describe(include = ['int64','float64']).round(2)"
   ]
  },
  {
   "cell_type": "code",
   "execution_count": null,
   "metadata": {},
   "outputs": [],
   "source": [
    "df_test.describe(include = ['object'])"
   ]
  },
  {
   "cell_type": "code",
   "execution_count": null,
   "metadata": {},
   "outputs": [],
   "source": [
    "df_test.describe(include = ['object'])"
   ]
  },
  {
   "cell_type": "code",
   "execution_count": null,
   "metadata": {},
   "outputs": [],
   "source": [
    "df_test.describe(include = ['int64','float64']).round(2)"
   ]
  },
  {
   "cell_type": "markdown",
   "metadata": {
    "id": "1X5_FzDOhjuh"
   },
   "source": [
    "(0.15 балла) <font color='#9933CC'>Посмотрите, есть ли в датасете пропуски.</font>\n",
    "\n",
    "<font color='#FF6600'>Если есть, то в каких колонках?</font>"
   ]
  },
  {
   "cell_type": "code",
   "execution_count": null,
   "metadata": {
    "id": "67KXN7Fj0Chz"
   },
   "outputs": [],
   "source": [
    "#seats, mileage, engine, max_power, torque"
   ]
  },
  {
   "cell_type": "markdown",
   "metadata": {
    "id": "B9KR76Uzjvqa"
   },
   "source": [
    "(0.1 балла) <font color='#9933CC'>Посмотрите, есть ли в трейне объекты с одинаковым признаковым описанием</font> (целевую переменную следует исключить). Если есть, то сколько?"
   ]
  },
  {
   "cell_type": "code",
   "execution_count": null,
   "metadata": {
    "id": "J3Y-5Vyijys-"
   },
   "outputs": [],
   "source": [
    "df_train_copy = df_train.drop('selling_price', axis = 1).copy()"
   ]
  },
  {
   "cell_type": "markdown",
   "metadata": {
    "id": "UAwmwOwhlQmA"
   },
   "source": [
    "(0.15 балла) <font color='#9933CC'>Отобразите такие объекты</font>"
   ]
  },
  {
   "cell_type": "code",
   "execution_count": null,
   "metadata": {
    "id": "nSg0g13Ylgsh"
   },
   "outputs": [],
   "source": [
    "df_train[df_train_copy.duplicated()]"
   ]
  },
  {
   "cell_type": "markdown",
   "metadata": {
    "id": "156jDf_Yj64l"
   },
   "source": [
    "(0.15 балла) <font color='#9933CC'>Удалите повторяющиеся строки</font>. Если при одинаковом признаковом описании цены на автомобили отличаются, то оставьте первую строку по этому автомобилю"
   ]
  },
  {
   "cell_type": "code",
   "execution_count": null,
   "metadata": {
    "id": "sD0e3HZejmB-"
   },
   "outputs": [],
   "source": [
    "df_train_copy = df_train_copy.drop_duplicates(keep='first')"
   ]
  },
  {
   "cell_type": "code",
   "execution_count": null,
   "metadata": {},
   "outputs": [],
   "source": [
    "df_train = df_train.iloc[df_train_copy.index]"
   ]
  },
  {
   "cell_type": "code",
   "execution_count": null,
   "metadata": {
    "id": "vF0yfzMOkEn8"
   },
   "outputs": [],
   "source": [
    "assert df_train.shape == (5840, 13)"
   ]
  },
  {
   "cell_type": "markdown",
   "metadata": {
    "id": "_SglCDNUkMTa"
   },
   "source": [
    "(0.1 балла) Чтоб все было по красоте, <font color='#9933CC'>обновите индексы строк таким образом, чтобы они шли от 0 без пропусков</font>"
   ]
  },
  {
   "cell_type": "code",
   "execution_count": null,
   "metadata": {
    "id": "4RxpM81kkgsX"
   },
   "outputs": [],
   "source": [
    "df_train = df_train.reset_index(drop=True)"
   ]
  },
  {
   "cell_type": "markdown",
   "metadata": {
    "id": "CzYgx2wJzLxN"
   },
   "source": [
    "Вы могли заметить, что с признаками ``mileage, engine, max_power и torque`` всё не слава богу. Давайте починим.\n",
    "\n",
    "(0.25 балла) Задача такая: \n",
    "<font color='#9933CC'>\n",
    "* убрать единицы измерения для признаков ``mileage, engine, max_power``. \n",
    "* кастануть эти столбцы столбцы к ``float``.\n",
    "* удалить столбец ``torque``\n",
    "</font>\n",
    "\n",
    "> Все действия нужно производить над обоими датасетами\n",
    "\n",
    "---\n",
    "**Доп (0.25 балла):**\n",
    "* <font color='#9933CC'>Вместо удаления признак `torque` разделите на два: собственно `torque` и `max_torque_rpm`.</font> Учтите единицы измерения. Они разные ☹"
   ]
  },
  {
   "cell_type": "code",
   "execution_count": null,
   "metadata": {
    "id": "njamVk3A1dVM"
   },
   "outputs": [],
   "source": [
    "df_train.mileage = df_train.mileage.str.extract('(\\d+)', expand=False).astype(float)\n",
    "df_train.engine = df_train.engine.str.extract('(\\d+)', expand=False).astype(float)\n",
    "df_train.max_power = df_train.max_power.str.extract('(\\d+)', expand=False).astype(float)\n",
    "df_train = df_train.drop('torque', axis = 1)"
   ]
  },
  {
   "cell_type": "code",
   "execution_count": null,
   "metadata": {},
   "outputs": [],
   "source": [
    "df_test.mileage = df_test.mileage.str.extract('(\\d+)', expand=False).astype(float)\n",
    "df_test.engine = df_test.engine.str.extract('(\\d+)', expand=False).astype(float)\n",
    "df_test.max_power = df_test.max_power.str.extract('(\\d+)', expand=False).astype(float)\n",
    "df_test = df_test.drop('torque', axis = 1)"
   ]
  },
  {
   "cell_type": "markdown",
   "metadata": {
    "id": "nyEtp7jsRNms"
   },
   "source": [
    "(0.15 балла) <font color='#9933CC'>Заполните пропуски в столбцах медианами. Убедитесь, что после заполнения пропусков не осталось</font>\n",
    "\n",
    "> Обратите внимание, что, по уму, нужно посчитать медиану по трейну и этим средним заполнять пропуски в тесте. Так же делаем, если, например, стандартизируем признаки.\n",
    "\n"
   ]
  },
  {
   "cell_type": "code",
   "execution_count": null,
   "metadata": {
    "id": "M9H15wvXRYQF"
   },
   "outputs": [],
   "source": [
    "for col in ['seats', 'mileage', 'engine', 'max_power']:\n",
    "    df_train[col] = df_train[col].fillna(df_train[col].median())\n",
    "    df_test[col] = df_test[col].fillna(df_train[col].median())"
   ]
  },
  {
   "cell_type": "code",
   "execution_count": null,
   "metadata": {},
   "outputs": [],
   "source": [
    "df_train.describe(include = ['object'])"
   ]
  },
  {
   "cell_type": "code",
   "execution_count": null,
   "metadata": {},
   "outputs": [],
   "source": [
    "df_train.describe(include = ['int64','float64']).round(2)"
   ]
  },
  {
   "cell_type": "code",
   "execution_count": null,
   "metadata": {},
   "outputs": [],
   "source": [
    "df_test.describe(include = ['object'])"
   ]
  },
  {
   "cell_type": "code",
   "execution_count": null,
   "metadata": {},
   "outputs": [],
   "source": [
    "df_test.describe(include = ['int64','float64']).round(2)"
   ]
  },
  {
   "cell_type": "markdown",
   "metadata": {
    "id": "RuKxfXCaXeHr"
   },
   "source": [
    "\n",
    "(0.1 балла) Теперь, когда не осталось пропусков, можно <font color='#9933CC'>преобразовать столбцы к более подходящим типам (``engnine`` и ``seats`` к int)\n",
    "</font>\n",
    "\n",
    "Ниже ответьте, <font color='#FF6600'>почему (хоть мы этого и не делаем) ``seats``, возможно, лучше сделать переменной категориальной, а не целочисленной.</font>"
   ]
  },
  {
   "cell_type": "code",
   "execution_count": null,
   "metadata": {
    "colab": {
     "base_uri": "https://localhost:8080/"
    },
    "id": "gVi9BPC-YLMi",
    "outputId": "aa889364-c725-4fd2-8551-4b5d2086ad4b"
   },
   "outputs": [],
   "source": [
    "print(\"Очевидно, что количество сидений ограничено и +- заранее известно, не считая кейсов с условным автобусом\")"
   ]
  },
  {
   "cell_type": "code",
   "execution_count": null,
   "metadata": {
    "id": "kYKWyjsLYQuz"
   },
   "outputs": [],
   "source": [
    "df_train['engine'] = df_train['engine'].astype(int)\n",
    "df_train['seats'] = df_train['seats'].astype(int)\n",
    "\n",
    "df_test['engine'] = df_test['engine'].astype(int)\n",
    "df_test['seats'] = df_test['seats'].astype(int)"
   ]
  },
  {
   "cell_type": "markdown",
   "metadata": {
    "id": "OmV784QWZOpO"
   },
   "source": [
    "## Визуализации (1 балл + 0.5)"
   ]
  },
  {
   "cell_type": "markdown",
   "metadata": {
    "id": "6p2L60ngZueT"
   },
   "source": [
    "Визуализировать нам надо не так уж и много. Во-первых, хотелось бы, в принципе, увидеть как распределены значения признаков. Также хотелось бы понять, насколько признаки скоррелированы между собой и с целевой переменной. А ещё неплохо бы посмотреть, не оказалось ли так, что тестовые данные распределены иначе, чем трейн.\n",
    "\n",
    "Этим всем и предлагаем вам заняться."
   ]
  },
  {
   "cell_type": "markdown",
   "metadata": {
    "id": "IJpEKkFfaQoC"
   },
   "source": [
    "(0.25 балла) <font color='#9933CC'>Посторойте попарные распределения всех числовых признаков для трейна.</font>\n",
    "\n",
    "> ``sns.paiplot()`` позволяет сделать это в одну строчку"
   ]
  },
  {
   "cell_type": "code",
   "execution_count": null,
   "metadata": {
    "id": "0car89hFaby1"
   },
   "outputs": [],
   "source": [
    "sns.pairplot(df_train)"
   ]
  },
  {
   "cell_type": "code",
   "execution_count": null,
   "metadata": {},
   "outputs": [],
   "source": [
    "sns.heatmap(df_train.select_dtypes('number').corr(), cmap=\"Blues\", annot=True)"
   ]
  },
  {
   "cell_type": "markdown",
   "metadata": {
    "id": "Vf4NE1-WboFG"
   },
   "source": [
    "Этот график не такой информативный, как можно было бы построить, беря признаки по отдельности. Но он позволяет сделать некоторые (возможно, далеко идущие) выводы. Впрочем, со многими из них (если не со всеми) вы бы справились умозрительно. Однако всегда приятно делать выводы, основываясь на данных.\n",
    "\n",
    "\n",
    "\n",
    "* <font color='#FF6600'> Что можно сказать о связи предикторов с целевой переменной?\n",
    "* А о корреляциях признаков? </font>"
   ]
  },
  {
   "cell_type": "code",
   "execution_count": null,
   "metadata": {},
   "outputs": [],
   "source": [
    "# Сильно с целевой переменно коррелирует max_power, это видно и на графике, и в матрице корреляций\n",
    "# меньше - год и объем двигателя\n",
    "# остальные не существенно\n",
    "\n",
    "#Между собой сильно коррелируют объем двигателя и его мощность, что закономерно)\n",
    "#Также, как ни странно, есть сильная корреляция между объемом двигателя и кол-вом сидений в автомобиле"
   ]
  },
  {
   "cell_type": "markdown",
   "metadata": {
    "id": "m0Y8VOCceH_3"
   },
   "source": [
    "(0.25 балла) <font color='#9933CC'>Постройте pairplot по тестовым данным</font> и ответьте на вопрос <font color='#FF6600'>\"Похожими ли оказались совокупности при разделении на трейн и тест?\"</font>"
   ]
  },
  {
   "cell_type": "code",
   "execution_count": null,
   "metadata": {
    "id": "NK9l6SrAeHK1"
   },
   "outputs": [],
   "source": [
    "sns.pairplot(df_test)"
   ]
  },
  {
   "cell_type": "code",
   "execution_count": null,
   "metadata": {},
   "outputs": [],
   "source": [
    "sns.heatmap(df_test.select_dtypes('number').corr(), cmap=\"Blues\", annot=True)"
   ]
  },
  {
   "cell_type": "markdown",
   "metadata": {
    "id": "Gnn7pDcrfEvN"
   },
   "source": [
    "(0.25 балла) <font color='#9933CC'>Для трейна давайте построим тепловую карту (heatmap из библиотеки seaborn) попарных корреляций числовых колонок</font>"
   ]
  },
  {
   "cell_type": "code",
   "execution_count": null,
   "metadata": {
    "id": "E99LVAN2fMVH"
   },
   "outputs": [],
   "source": [
    "# сделал выше"
   ]
  },
  {
   "cell_type": "markdown",
   "metadata": {
    "id": "w24a_oXqf12H"
   },
   "source": [
    "Ответьте, пожалуйста, на вопросы: \n",
    "* <font color='#FF6600'>Какие 2 признака наименее скоррелированы между собой?</font>\n",
    "* <font color='#FF6600'>Между какими наблюдается довольно сильная положительная линейная зависимость?</font>\n",
    "* <font color='#FF6600'>Правильно ли, опираясь на данные, утверждать, что чем меньше год, тем, скорее всего, больше километров проехала машина к дате продажи.</font>"
   ]
  },
  {
   "cell_type": "code",
   "execution_count": null,
   "metadata": {},
   "outputs": [],
   "source": [
    "#1) engine и year\n",
    "#2) max_power и engine\n",
    "#3) Да, можно, есть достаточно большая отрицательная корреляция (-0.37) на трейне и (-0.47) на тесте"
   ]
  },
  {
   "cell_type": "markdown",
   "metadata": {
    "id": "DZXV-FI9lO5V"
   },
   "source": [
    "(0.25 балла) <font color='#9933CC'> Отобразите диаграммe рассеяния для наиболее скореллированной пары **признаков** (на трейне) </font>"
   ]
  },
  {
   "cell_type": "code",
   "execution_count": null,
   "metadata": {
    "id": "6RtM_zkDlON9"
   },
   "outputs": [],
   "source": [
    "df_train.plot(x='max_power', y='engine', style='o')"
   ]
  },
  {
   "cell_type": "markdown",
   "metadata": {
    "id": "ru1In410pieq"
   },
   "source": [
    "### Дополнительные визуализации (бонус 0.5 балла)\n",
    "\n",
    "Если вам кажется, что мы не попросили вас нарисовать какие-то очень важные зависимости, нарисуйте их и поясните."
   ]
  },
  {
   "cell_type": "code",
   "execution_count": null,
   "metadata": {
    "id": "HwlwJhDIp_2L"
   },
   "outputs": [],
   "source": [
    "df_train.plot(x='max_power', y='selling_price', style='o')"
   ]
  },
  {
   "cell_type": "code",
   "execution_count": null,
   "metadata": {},
   "outputs": [],
   "source": [
    "#Корелляция между ценой и макс мощностью двигателя, тк она тоже существенная"
   ]
  },
  {
   "cell_type": "code",
   "execution_count": null,
   "metadata": {},
   "outputs": [],
   "source": [
    "df_train.plot(x='engine', y='seats', style='o') #Так как признак числа сидений \n",
    "#- по большей части категориальный, на графике особо не видно зависимости, однако корреляция есть"
   ]
  },
  {
   "cell_type": "markdown",
   "metadata": {
    "id": "uS2CQ1LzrP_U"
   },
   "source": [
    "# Часть 2 (1.25 балла) | Модель только на вещественных признаках"
   ]
  },
  {
   "cell_type": "markdown",
   "metadata": {
    "id": "EPDwkjMPg3Lg"
   },
   "source": [
    "(0.05 балла) <font color='#9933CC'>В переменные ``y_train`` и ``y_test`` запишите значения целевых переменных. Столбцы ``selling_price`` из датафреймов необходимо удалить. Категориальные (все, кроме ``seats``) столбцы тоже.</font>"
   ]
  },
  {
   "cell_type": "code",
   "execution_count": null,
   "metadata": {},
   "outputs": [],
   "source": [
    "df_train"
   ]
  },
  {
   "cell_type": "code",
   "execution_count": null,
   "metadata": {
    "id": "cGxjJSSUg2na"
   },
   "outputs": [],
   "source": [
    "y_train = df_train['selling_price']\n",
    "X_train = df_train.drop(['name','selling_price', 'fuel','seller_type', 'transmission', 'owner'], axis = 1)"
   ]
  },
  {
   "cell_type": "code",
   "execution_count": null,
   "metadata": {
    "id": "fyMyARKem5wl"
   },
   "outputs": [],
   "source": [
    "assert X_train.shape == (5840, 6)"
   ]
  },
  {
   "cell_type": "code",
   "execution_count": null,
   "metadata": {
    "id": "xKRmqiJ5rbSx"
   },
   "outputs": [],
   "source": [
    "y_test = df_test['selling_price']\n",
    "X_test = df_test.drop(['name','selling_price', 'fuel','seller_type', 'transmission', 'owner'], axis = 1)"
   ]
  },
  {
   "cell_type": "code",
   "execution_count": null,
   "metadata": {
    "id": "-JepTZ36y-h-"
   },
   "outputs": [],
   "source": [
    "assert X_test.shape == (1000, 6)"
   ]
  },
  {
   "cell_type": "markdown",
   "metadata": {
    "id": "_kvtF4gXhwoI"
   },
   "source": [
    "(0.2 балла) <font color='#9933CC'>Обучите классическую линейную регрессию с дефолтными параметрами. Посчтитайте $R^2$ и MSE для трейна и для теста</font>\n",
    "\n",
    "**Замечание:** $R^2$ и MSE для трейна и для теста выводите везде, где требуется обучать модели, даже если в явном виде этого не просят. Иначе непонятно, как понять, насколько успешны наши эксперименты."
   ]
  },
  {
   "cell_type": "code",
   "execution_count": null,
   "metadata": {
    "id": "hVYXaeTgrb3d"
   },
   "outputs": [],
   "source": [
    "from sklearn.linear_model import LinearRegression\n",
    "from sklearn.metrics import r2_score, mean_squared_error as MSE\n",
    "\n",
    "model = LinearRegression()\n",
    "\n",
    "model.fit(X_train, y_train)\n",
    "y_preds = model.predict(X_test)\n",
    "\n",
    "print(f'R2: {r2_score(y_test,y_preds)}')\n",
    "print(f'MSE: {MSE(y_test,y_preds)}')"
   ]
  },
  {
   "cell_type": "markdown",
   "metadata": {
    "id": "HpQ8EG2Uk_Dn"
   },
   "source": [
    "Запомните правило:\n",
    "\n",
    "> Использую линейную модель -- стандартизирую фичи\n",
    "\n",
    "(0.25 балла) <font color='#9933CC'>Воспользуемся им</font>\n"
   ]
  },
  {
   "cell_type": "code",
   "execution_count": null,
   "metadata": {
    "id": "o6FB80C2rciK"
   },
   "outputs": [],
   "source": [
    "from sklearn.preprocessing import StandardScaler\n",
    "\n",
    "scaler = StandardScaler()\n",
    "\n",
    "X_train = pd.DataFrame(scaler.fit_transform(X_train))\n",
    "X_test = pd.DataFrame(scaler.transform(X_test))"
   ]
  },
  {
   "cell_type": "code",
   "execution_count": null,
   "metadata": {},
   "outputs": [],
   "source": [
    "model = LinearRegression()\n",
    "model.fit(X_train, y_train)\n",
    "y_preds = model.predict(X_test)\n",
    "\n",
    "print(f'R2: {r2_score(y_test,y_preds)}')\n",
    "print(f'MSE: {MSE(y_test,y_preds)}')"
   ]
  },
  {
   "cell_type": "markdown",
   "metadata": {
    "id": "oQZi8LYVmiPv"
   },
   "source": [
    "Не очень результативно.\n",
    "\n",
    "Зато уже сейчас можем интерпретировать модель. <font color='#FF6600'>\"Какой признак оказался наиболее информативным в предсказании цены?\"</font>"
   ]
  },
  {
   "cell_type": "code",
   "execution_count": null,
   "metadata": {
    "id": "u9onBNrhmt1r"
   },
   "outputs": [],
   "source": [
    "model.coef_"
   ]
  },
  {
   "cell_type": "code",
   "execution_count": null,
   "metadata": {},
   "outputs": [],
   "source": [
    "df_train"
   ]
  },
  {
   "cell_type": "code",
   "execution_count": null,
   "metadata": {},
   "outputs": [],
   "source": [
    "#как и ожидалось, объем двигателя, у которого наибольшая корреляция с целевой переменной"
   ]
  },
  {
   "cell_type": "markdown",
   "metadata": {
    "id": "My5nSSASntjA"
   },
   "source": [
    "(0.25 балла) <font color='#9933CC'>Теперь попробуем Lasso-регрессию.</font> Здесь и дальше обучайте модели на нормализованных признаках"
   ]
  },
  {
   "cell_type": "code",
   "execution_count": null,
   "metadata": {
    "id": "yhR5eajPn0kl"
   },
   "outputs": [],
   "source": [
    "from sklearn.linear_model import Lasso\n",
    "\n",
    "model = Lasso()\n",
    "model.fit(X_train, y_train)\n",
    "y_preds = model.predict(X_test)\n",
    "\n",
    "print(f'R2: {r2_score(y_test,y_preds)}')\n",
    "print(f'MSE: {MSE(y_test,y_preds)}')"
   ]
  },
  {
   "cell_type": "markdown",
   "metadata": {
    "id": "cIbnMp-So7CP"
   },
   "source": [
    "<font color='#FF6600'>Занулила ли L1-регуляризация с параметрами по умолчанию какие-нибудь веса? Почему же?</font>"
   ]
  },
  {
   "cell_type": "code",
   "execution_count": null,
   "metadata": {
    "id": "EBJKIp6FouYw"
   },
   "outputs": [],
   "source": [
    "model.coef_"
   ]
  },
  {
   "cell_type": "code",
   "execution_count": null,
   "metadata": {},
   "outputs": [],
   "source": [
    "#нет, не занулила, веса большие, а параметр 1 по дефолту"
   ]
  },
  {
   "cell_type": "markdown",
   "metadata": {
    "id": "YYWLInilqQTE"
   },
   "source": [
    "(0.25 балла) <font color='#9933CC'>Перебором по сетке (c 10-ю фолдами) подберите оптимальные параметры для Lasso-регрессии</font>\n",
    "\n",
    "Вам пригодится класс [GridSearchCV](https://scikit-learn.org/stable/modules/generated/sklearn.model_selection.GridSearchCV.html)."
   ]
  },
  {
   "cell_type": "code",
   "execution_count": null,
   "metadata": {
    "id": "mdGQ6CvApr_P"
   },
   "outputs": [],
   "source": [
    "from sklearn.model_selection import GridSearchCV\n",
    "\n",
    "alpha_range = list(range(1, 100))\n",
    "param_grid = dict(alpha = alpha_range)\n",
    "\n",
    "model = Lasso()  \n",
    "\n",
    "grid = GridSearchCV(model, param_grid, cv = 10, scoring='r2', return_train_score=True)\n",
    "\n",
    "grid_search=grid.fit(X_train, y_train)"
   ]
  },
  {
   "cell_type": "code",
   "execution_count": null,
   "metadata": {},
   "outputs": [],
   "source": [
    "y_preds = grid_search.best_estimator_.predict(X_test)\n",
    "\n",
    "print(f'R2: {r2_score(y_test,y_preds)}')\n",
    "print(f'MSE: {MSE(y_test,y_preds)}')"
   ]
  },
  {
   "cell_type": "markdown",
   "metadata": {
    "id": "rueUl2cSvT5w"
   },
   "source": [
    "<font color='#FF6600'>Сколько грид-сёрчу пришлось обучать моделей?</font>"
   ]
  },
  {
   "cell_type": "code",
   "execution_count": null,
   "metadata": {},
   "outputs": [],
   "source": [
    "len(grid_search.cv_results_['mean_fit_time']) # 99"
   ]
  },
  {
   "cell_type": "markdown",
   "metadata": {
    "id": "0agvlV-tvEQN"
   },
   "source": [
    "<font color='#FF6600'>Какой коэффициент регуляризации у лучшей из перебранных моделей? Занулились ли какие-нибудь из весов при такой регуляризации?</font>"
   ]
  },
  {
   "cell_type": "code",
   "execution_count": null,
   "metadata": {
    "id": "joyYE2Q5shu5"
   },
   "outputs": [],
   "source": [
    "grid_search.best_estimator_ # как не странно, максимальный их доступных, значит скорее всего дальше будет лучше"
   ]
  },
  {
   "cell_type": "code",
   "execution_count": null,
   "metadata": {},
   "outputs": [],
   "source": [
    "grid_search.best_estimator_.coef_"
   ]
  },
  {
   "cell_type": "code",
   "execution_count": null,
   "metadata": {},
   "outputs": [],
   "source": [
    "#не занулились"
   ]
  },
  {
   "cell_type": "markdown",
   "metadata": {
    "id": "VdkkrDE4oeCP"
   },
   "source": [
    "(0.25 балла) <font color='#9933CC'>Перебором по сетке (c 10-ю фолдами) подберите оптимальные параметры для [ElasticNet](https://scikit-learn.org/stable/modules/generated/sklearn.linear_model.ElasticNet.html)-регрессии</font>"
   ]
  },
  {
   "cell_type": "code",
   "execution_count": null,
   "metadata": {
    "id": "F3e5MGZMoeCR"
   },
   "outputs": [],
   "source": [
    "from sklearn.linear_model import ElasticNet\n",
    "\n",
    "model = ElasticNet()\n",
    "\n",
    "parametersGrid = {\"max_iter\": [1000, 2000, 5000],\n",
    "                      \"alpha\": [0.0001, 0.001, 0.01, 0.1, 1, 10, 100],\n",
    "                      \"l1_ratio\": np.arange(0.0, 1.0, 0.1)}\n",
    "\n",
    "\n",
    "grid = GridSearchCV(model, parametersGrid, cv = 10, scoring='r2', return_train_score=True)\n",
    "\n",
    "grid_search=grid.fit(X_train, y_train)"
   ]
  },
  {
   "cell_type": "code",
   "execution_count": null,
   "metadata": {},
   "outputs": [],
   "source": [
    "y_preds = grid_search.best_estimator_.predict(X_test)\n",
    "\n",
    "print(f'R2: {r2_score(y_test,y_preds)}')\n",
    "print(f'MSE: {MSE(y_test,y_preds)}')"
   ]
  },
  {
   "cell_type": "markdown",
   "metadata": {
    "id": "zB0Nrbk6oeCS"
   },
   "source": [
    "<font color='#FF6600'>Какие гиперпараметры соответствуют лучшей из перебранных моделей?</font>"
   ]
  },
  {
   "cell_type": "code",
   "execution_count": null,
   "metadata": {
    "id": "gIzvY8bToeCS"
   },
   "outputs": [],
   "source": [
    "grid_search.best_estimator_"
   ]
  },
  {
   "cell_type": "markdown",
   "metadata": {
    "id": "5C3IX1-CwHO2"
   },
   "source": [
    "Предлагаем вам оставить вам попытки заметно улучшить качество модели регуляризацией и перейти к следующей части задания."
   ]
  },
  {
   "cell_type": "markdown",
   "metadata": {
    "id": "Y2y-_PCHrevF"
   },
   "source": [
    "# Часть 3 (0.5 балла) | Добавляем категориальные фичи\n",
    "\n"
   ]
  },
  {
   "cell_type": "markdown",
   "metadata": {
    "id": "frLASc5L8Tu5"
   },
   "source": [
    "(0 баллов) <font color='#9933CC'>Из ``df_train`` удалите столбцы с целевой переменной и названием автомобиля.</font>"
   ]
  },
  {
   "cell_type": "code",
   "execution_count": null,
   "metadata": {
    "id": "jsXiFjaFrng-"
   },
   "outputs": [],
   "source": [
    "y_train_cat = df_train['selling_price']\n",
    "X_train_cat = df_train.drop(['name','selling_price'], axis = 1)"
   ]
  },
  {
   "cell_type": "code",
   "execution_count": null,
   "metadata": {},
   "outputs": [],
   "source": [
    "y_test_cat = df_test['selling_price']\n",
    "X_test_cat = df_test.drop(['name','selling_price'], axis = 1)"
   ]
  },
  {
   "cell_type": "code",
   "execution_count": null,
   "metadata": {
    "id": "SqDhrd6Q8k-S"
   },
   "outputs": [],
   "source": [
    "assert X_train_cat.shape == (5840, 10)"
   ]
  },
  {
   "cell_type": "code",
   "execution_count": null,
   "metadata": {
    "id": "JyGl7KQQx_Ax"
   },
   "outputs": [],
   "source": [
    "X_train_cat.describe(include='object')"
   ]
  },
  {
   "cell_type": "markdown",
   "metadata": {
    "id": "wYxtiDa_81AL"
   },
   "source": [
    "(0.5 балла) <font color='#9933CC'>Закодируйте категориалльные фичи и ``seats`` методом OneHot-кодирования</font>\n",
    "\n",
    "> Обратите внимание, что во избежание мультиколлинеарности следует избавиться от одного из полученных столбцов при кодировании каждого признака методом OneHot. "
   ]
  },
  {
   "cell_type": "code",
   "execution_count": null,
   "metadata": {
    "id": "wbN4yM2Frob7"
   },
   "outputs": [],
   "source": [
    "from sklearn.preprocessing import OneHotEncoder # или можно использовать get_dummies из библиотеки pandas\n",
    "\n",
    "for col in ['fuel', 'seller_type', 'transmission', 'owner', 'seats']:\n",
    "    encoder = OneHotEncoder()\n",
    "    \n",
    "    one_hot = encoder.fit(X_train_cat[col].to_numpy().reshape(-1,1))\n",
    "    cols = one_hot.get_feature_names_out()[:-1]\n",
    "    encoded = encoder.transform(X_train_cat[col].to_numpy().reshape(-1,1))\n",
    "    encoded = pd.DataFrame(encoded.toarray()[:,:-1], index = X_train_cat.index, columns = cols)\n",
    "    X_train_cat = X_train_cat.drop(col,axis = 1)\n",
    "    X_train_cat = pd.concat([X_train_cat, encoded], axis='columns')\n",
    "    \n",
    "    encoded = encoder.transform(X_test_cat[col].to_numpy().reshape(-1,1))\n",
    "    cols = one_hot.get_feature_names_out()[:-1]\n",
    "    encoded = pd.DataFrame(encoded.toarray()[:,:-1], index = X_test_cat.index, columns = cols)\n",
    "    X_test_cat = X_test_cat.drop(col,axis = 1)\n",
    "    X_test_cat = pd.concat([X_test_cat, encoded], axis='columns')"
   ]
  },
  {
   "cell_type": "markdown",
   "metadata": {
    "id": "b8fI5dQT-Fvx"
   },
   "source": [
    "(0.25 балла) <font color='#9933CC'>Переберите параметр регуляризации `alpha` для гребневой (ridge) регрессии с помощью класса `GridSearchCV`.</font> В качестве параметров при объявлении GridSearchCV кроме модели укажите метрику качества $R^2$. Кроссвалидируйтесь по 10-ти фолдам.\n",
    "\n",
    "<font color='#FF6600'>Удалось ли улучшить качество предсказаний?</font>"
   ]
  },
  {
   "cell_type": "code",
   "execution_count": null,
   "metadata": {
    "id": "SLXCtme53Oup"
   },
   "outputs": [],
   "source": [
    "from sklearn.linear_model import Ridge\n",
    "from sklearn.model_selection import GridSearchCV\n",
    "\n",
    "alpha_range = list(range(1, 100))\n",
    "param_grid = dict(alpha = alpha_range)\n",
    "\n",
    "model = Ridge()  \n",
    "\n",
    "grid = GridSearchCV(model, param_grid, cv = 10, scoring='r2', return_train_score=True)\n",
    "\n",
    "grid_search=grid.fit(X_train_cat, y_train_cat)"
   ]
  },
  {
   "cell_type": "code",
   "execution_count": null,
   "metadata": {},
   "outputs": [],
   "source": [
    "grid_search.best_estimator_"
   ]
  },
  {
   "cell_type": "code",
   "execution_count": null,
   "metadata": {},
   "outputs": [],
   "source": [
    "y_preds = grid_search.best_estimator_.predict(X_test_cat)\n",
    "\n",
    "print(f'R2: {r2_score(y_test_cat,y_preds)}')\n",
    "print(f'MSE: {MSE(y_test_cat,y_preds)}')"
   ]
  },
  {
   "cell_type": "code",
   "execution_count": null,
   "metadata": {},
   "outputs": [],
   "source": [
    "#удалось"
   ]
  },
  {
   "cell_type": "markdown",
   "metadata": {
    "id": "T0OlrsmArp2I"
   },
   "source": [
    "# Часть 4 - бонусная (1.5 балла) | Feature Engineering "
   ]
  },
  {
   "cell_type": "markdown",
   "metadata": {
    "id": "NXo9jvHPEYtN"
   },
   "source": [
    "В этой части домашнего задания вам предлагается проявить свою креативность для улучшения прогноза модели. Любые другие модели, кроме различных форм линейной (или полиномиальной) регресси, использовать запрещается. А значит, придется работать с признаками\n",
    "\n",
    "**Что можно попробовать сделать?** (каждый пункт по 0.4 балла, но не больше 2-х баллов в сумме)\n",
    "\n",
    "1.   *Сгенерировать новые признаки на основе уже существующих:*\n",
    "    * посчитать произведения // частные признаков (кажется, что посчитать число \"лошадей\" на литр объема может быть полезно);\n",
    "    * имеет смысл обратить внимание на визуализации в части с EDA (к примеру, зависимость цены от года выглядит квадратичной, а не линейной; значит, квадрат года нам, скорее всего, принесет больше пользы)\n",
    "\n",
    "2.   *Добыть новые признаки:*\n",
    "    * имеем название автомобиля, которое никак не используем (можно спарсить инфу о классе автомобиля или каких-то специфических опциях)\n",
    "    * можно добавить пороговые признаки вроде \"владелец третий или больше\" и объединить признаки в некоторые осмысленные правила, например \"первый или второй владелец и продавец официальный дилер\" (подбирать пороги удобно по диаграммам рассеяния)\n",
    "\n",
    "3.   *Поработать с уже имеющимися:*\n",
    "    * далеко не факт, что заполнить пропуск медианой было лучшей идеей (как минимум, можно добавить dummy-столбец для модели, сигнализирующий, что раньше на месте медианы был пропуск -- там где он был, конечно); попробуйте другие способы филлинга;\n",
    "    * мы не анализировали, есть ли в данных выбросы => никак выбросы не обрабатывали; наиболее простым и, тем не менее, довольно полезным вариантом нахождения выбросов могут послужить boxplot'ы для каждого столбца; что делать с выбросами думайте сами :) -- вариантов довольно много\n",
    "    * мы толком не смотрели на таргет сам по себе; в нем тоже могут быть неожиданности -- стоит хотя бы проверить\n",
    "    * можно заметить, что некоторые признаки распределены совсем не нормально; возможно их стоит отлогарифмировать\n",
    "\n",
    "И так далее...\n",
    "\n",
    "Feel Free to Try!"
   ]
  },
  {
   "cell_type": "code",
   "execution_count": null,
   "metadata": {},
   "outputs": [],
   "source": [
    "df_train"
   ]
  },
  {
   "cell_type": "code",
   "execution_count": 1,
   "metadata": {
    "id": "keijjrKbr3Ne"
   },
   "outputs": [],
   "source": [
    "def feature_engineering(df_train, df_test):\n",
    "    df_train['year_sqr'] = df_train['year'] * df_train['year']\n",
    "    df_test['year_sqr'] = df_test['year'] * df_test['year']\n",
    "    \n",
    "    df_train['hp_by_volume'] = df_train['max_power'] / df_train['engine']\n",
    "    df_test['hp_by_volume'] = df_test['max_power'] / df_test['engine']\n",
    "    \n",
    "    return df_train, df_test"
   ]
  },
  {
   "cell_type": "code",
   "execution_count": 3,
   "metadata": {},
   "outputs": [],
   "source": [
    "import joblib\n",
    "from sklearn.preprocessing import StandardScaler\n",
    "from sklearn.preprocessing import OneHotEncoder\n",
    "from sklearn.linear_model import Ridge\n",
    "from sklearn.model_selection import GridSearchCV\n",
    "from sklearn.metrics import r2_score, mean_squared_error as MSE\n",
    "import pandas as pd\n",
    "\n",
    "df_train = pd.read_csv('https://raw.githubusercontent.com/hse-mlds/ml/main/hometasks/HT1/cars_train.csv')\n",
    "df_test = pd.read_csv('https://raw.githubusercontent.com/hse-mlds/ml/main/hometasks/HT1/cars_test.csv')\n",
    "\n",
    "df_train_copy = df_train.drop('selling_price', axis = 1).copy()\n",
    "df_train_copy = df_train_copy.drop_duplicates(keep='first')\n",
    "df_train = df_train.iloc[df_train_copy.index]\n",
    "\n",
    "df_train = df_train.reset_index(drop=True)\n",
    "\n",
    "df_train.mileage = df_train.mileage.str.extract('(\\d+)', expand=False).astype(float)\n",
    "df_train.engine = df_train.engine.str.extract('(\\d+)', expand=False).astype(float)\n",
    "df_train.max_power = df_train.max_power.str.extract('(\\d+)', expand=False).astype(float)\n",
    "df_train = df_train.drop('torque', axis = 1)\n",
    "\n",
    "df_test.mileage = df_test.mileage.str.extract('(\\d+)', expand=False).astype(float)\n",
    "df_test.engine = df_test.engine.str.extract('(\\d+)', expand=False).astype(float)\n",
    "df_test.max_power = df_test.max_power.str.extract('(\\d+)', expand=False).astype(float)\n",
    "df_test = df_test.drop('torque', axis = 1)\n",
    "\n",
    "for col in ['seats', 'mileage', 'engine', 'max_power']:\n",
    "    df_train[col] = df_train[col].fillna(df_train[col].median())\n",
    "    df_test[col] = df_test[col].fillna(df_train[col].median())\n",
    "\n",
    "df_train['engine'] = df_train['engine'].astype(int)\n",
    "df_train['seats'] = df_train['seats'].astype(int)\n",
    "\n",
    "df_test['engine'] = df_test['engine'].astype(int)\n",
    "df_test['seats'] = df_test['seats'].astype(int)\n",
    "\n",
    "y_train_cat = df_train['selling_price']\n",
    "X_train_cat = df_train.drop(['name','selling_price'], axis = 1)\n",
    "\n",
    "y_test_cat = df_test['selling_price']\n",
    "X_test_cat = df_test.drop(['name','selling_price'], axis = 1)\n",
    "\n",
    "\n",
    "encoder = OneHotEncoder(drop = 'first')\n",
    "one_hot = encoder.fit(X_train_cat[['fuel', 'seller_type', 'transmission', 'owner', 'seats']])\n",
    "\n",
    "cols = one_hot.get_feature_names_out()\n",
    "encoded = encoder.transform(X_train_cat[['fuel', 'seller_type', 'transmission', 'owner', 'seats']])\n",
    "encoded = pd.DataFrame(encoded.toarray(), index = X_train_cat.index, columns = cols)\n",
    "X_train_cat = X_train_cat.drop(['fuel', 'seller_type', 'transmission', 'owner', 'seats'],axis = 1)\n",
    "X_train_cat = pd.concat([X_train_cat, encoded], axis='columns')\n",
    "\n",
    "encoded = encoder.transform(X_test_cat[['fuel', 'seller_type', 'transmission', 'owner', 'seats']])\n",
    "encoded = pd.DataFrame(encoded.toarray(), index = X_test_cat.index, columns = cols)\n",
    "X_test_cat = X_test_cat.drop(['fuel', 'seller_type', 'transmission', 'owner', 'seats'],axis = 1)\n",
    "X_test_cat = pd.concat([X_test_cat, encoded], axis='columns')\n",
    "\n",
    "\n",
    "X_train_cat,X_test_cat = feature_engineering(X_train_cat,X_test_cat) \n",
    "    \n",
    "scaler = StandardScaler()\n",
    "\n",
    "X_train_cat = pd.DataFrame(scaler.fit_transform(X_train_cat))\n",
    "X_test_cat = pd.DataFrame(scaler.transform(X_test_cat))"
   ]
  },
  {
   "cell_type": "code",
   "execution_count": null,
   "metadata": {},
   "outputs": [],
   "source": [
    "alpha_range = list(range(1, 100))\n",
    "param_grid = dict(alpha = alpha_range)\n",
    "\n",
    "model = Ridge()  \n",
    "\n",
    "alpha_range = list(range(1, 100))\n",
    "param_grid = dict(alpha = alpha_range)\n",
    "\n",
    "grid = GridSearchCV(model, param_grid, cv = 10, scoring='r2', return_train_score=True)\n",
    "\n",
    "grid_search=grid.fit(X_train_cat, y_train_cat)\n",
    "\n",
    "y_preds = grid_search.best_estimator_.predict(X_test_cat)\n",
    "\n",
    "print(f'R2: {r2_score(y_test_cat,y_preds)}')\n",
    "print(f'MSE: {MSE(y_test_cat,y_preds)}')"
   ]
  },
  {
   "cell_type": "code",
   "execution_count": 4,
   "metadata": {},
   "outputs": [
    {
     "name": "stdout",
     "output_type": "stream",
     "text": [
      "R2: 0.9723086223227903\n",
      "MSE: 15917794633.82917\n"
     ]
    }
   ],
   "source": [
    "from catboost import CatBoostRegressor\n",
    "\n",
    "model = CatBoostRegressor(logging_level = 'Silent')\n",
    "\n",
    "model.fit(X_train_cat, y_train_cat)\n",
    "\n",
    "y_preds = model.predict(X_test_cat)\n",
    "\n",
    "print(f'R2: {r2_score(y_test_cat,y_preds)}')\n",
    "print(f'MSE: {MSE(y_test_cat,y_preds)}')"
   ]
  },
  {
   "cell_type": "code",
   "execution_count": null,
   "metadata": {},
   "outputs": [],
   "source": [
    "#catboost из коробки как обычно очень хорош..."
   ]
  },
  {
   "cell_type": "code",
   "execution_count": null,
   "metadata": {},
   "outputs": [],
   "source": [
    "import joblib\n",
    "joblib.dump(encoder, 'encoder.pkl')\n",
    "joblib.dump(scaler, 'scaler.pkl')\n",
    "joblib.dump(model, 'model.pkl')"
   ]
  },
  {
   "cell_type": "markdown",
   "metadata": {
    "id": "mw6LOYJTL2x1"
   },
   "source": [
    "# Часть Бизнесовая (0.5 балла)"
   ]
  },
  {
   "cell_type": "markdown",
   "metadata": {
    "id": "0QpHAfbcMRfu"
   },
   "source": [
    "Заказчик просил вас посчитать кастомную метрику -- среди всех предсказанных цен на авто посчитать долю предиктов, отличающихся от реальных цен на эти авто не более чем на 10% (в одну или другую сторону)\n",
    "\n",
    "<font color='#9933CC'>Сделайте это самостоятельно для лучшей из своих моделей</font>"
   ]
  },
  {
   "cell_type": "code",
   "execution_count": 8,
   "metadata": {
    "id": "YrcaGhO7MnMR"
   },
   "outputs": [
    {
     "data": {
      "text/plain": [
       "0.56"
      ]
     },
     "execution_count": 8,
     "metadata": {},
     "output_type": "execute_result"
    }
   ],
   "source": [
    "def business_metrics(y_true, y_pred):\n",
    "    import numpy as np\n",
    "    \n",
    "    metric = (np.abs(y_true - y_pred) / y_true > 0.1).sum() / y_pred.shape[0]\n",
    "    return metric\n",
    "\n",
    "business_metrics(y_test_cat,y_preds)"
   ]
  },
  {
   "cell_type": "markdown",
   "metadata": {
    "id": "ARi0hYPrsI4x"
   },
   "source": [
    "# Часть 5 (2.5 балла) | Реализация сервиса на FastAPI"
   ]
  },
  {
   "cell_type": "markdown",
   "metadata": {
    "id": "03rHiCmGKGU8"
   },
   "source": [
    "Cделайте с помощью FastAPI сервис, который с точки зрения пользователя реализует две функции:\n",
    "\n",
    "1. на вход в формате json подаются признаки одного объекта, на выходе сервис выдает предсказанную стоимость машины\n",
    "2. на вход подается csv-файл с признаками тестовых объектов, на выходе получаем файл с +1 столбцом - предсказаниями на этих объектах\n",
    "\n",
    "С точки зрения реализации это означает следующее:\n",
    "- средствами pydantic должен быть описан класс базового объекта\n",
    "- класс с коллецией объектов\n",
    "- метод post, который получает на вход один объект описанного класса\n",
    "- метод post, который получает на вход коллекцию объектов описанного класса\n",
    "\n",
    "Шаблон для сервисной части дан ниже. Код необходимо дополнить и оформить в виде отдельного .py-файла."
   ]
  },
  {
   "cell_type": "code",
   "execution_count": null,
   "metadata": {
    "id": "6Qq8zyxNsYC3"
   },
   "outputs": [],
   "source": [
    "from fastapi import FastAPI\n",
    "from pydantic import BaseModel\n",
    "from typing import List\n",
    "\n",
    "app = FastAPI()\n",
    "\n",
    "\n",
    "class Item(BaseModel):\n",
    "    name: str\n",
    "    year: int\n",
    "    selling_price: int\n",
    "    km_driven: int\n",
    "    fuel: str\n",
    "    seller_type: str\n",
    "    transmission: str\n",
    "    owner: str\n",
    "    mileage: str \n",
    "    engine: str\n",
    "    max_power: str\n",
    "    torque: str\n",
    "    seats: float\n",
    "\n",
    "\n",
    "class Items(BaseModel):\n",
    "    objects: List[Item]\n",
    "\n",
    "\n",
    "@app.post(\"/predict_item\")\n",
    "def predict_item(item: Item) -> float:\n",
    "    return ...\n",
    "\n",
    "\n",
    "@app.post(\"/predict_items\")\n",
    "def predict_items(items: List[Item]) -> List[float]:\n",
    "    return ..."
   ]
  },
  {
   "cell_type": "markdown",
   "metadata": {
    "id": "3U29qIjog18v"
   },
   "source": [
    "Протестируйте сервис на корректность работы и приложите скриншоты (см. ниже)."
   ]
  },
  {
   "cell_type": "markdown",
   "metadata": {
    "id": "V4fq_10xsaHg"
   },
   "source": [
    "# Часть 6 (1 балл) | Оформление результатов"
   ]
  },
  {
   "cell_type": "markdown",
   "metadata": {
    "id": "nmwf-ZrEKZy6"
   },
   "source": [
    "**Результаты вашей работы** необходимо разместить в своем Гитхабе. Под результатами понимаем следующее:\n",
    "* ``.ipynb``-ноутбук со всеми проведёнными вами экспериментами (output'ы ячеек, разумеется, сохранить)\n",
    "* ``.py``-файл с реализацией сервиса\n",
    "* ``.pickle``-файл с сохранёнными весами модели, коэффициентами скейлинга и прочими числовыми значениями, которые могут понадобиться для инференса\n",
    "* ``.md``-файл с выводами про проделанной вами работе:\n",
    "    * что было сделано\n",
    "    * с какими результатами\n",
    "    * что дало наибольший буст в качестве\n",
    "    * что сделать не вышло и почему (это нормально, даже хорошо😀)\n",
    "\n",
    "**За что могут быть сняты баллы в этом пункте:**\n",
    "* за отсутствие ``.pickle``-файла с весами использованной модели\n",
    "* за недостаточную аналитику в ``.md``-файле\n",
    "* за оформление и логику кода (в определённом смысле это тоже элемент оформления решения)\n",
    "\n",
    "**Как будет выглядет проверка всего домашнего задания?**\n",
    "1. Ассистент проходит по ссылке на (**открытый**) репозиторий из Энитаска\n",
    "2. Смотрит ``readme.md``:\n",
    "    * пожалуйста, приложите в него же скрины работы вашего сервиса -- собирать ваши проекты довольно времязатратно, но хочется убедиться, что всё работает\n",
    "    * можете прислать screencast в ТГ\n",
    "3. Просматривает ноутбук с pure-DS частью\n",
    "4. Заглядывает в код сервиса\n",
    "5. Хвалит"
   ]
  },
  {
   "cell_type": "markdown",
   "metadata": {
    "id": "QSIEzw6sN8Zp"
   },
   "source": [
    "# Часть Благодарственная"
   ]
  },
  {
   "cell_type": "markdown",
   "metadata": {
    "id": "lWOSqmLWOAr-"
   },
   "source": [
    "Надеемся, вы честно проделали все пункты, а не просто пролистали досюда. Потому что здесь награда за старания. Пожалуйста, не стоит награждать себя до того, как закончите работать над домашкой.\n",
    "\n",
    "https://drive.google.com/file/d/1LT06nyg9QgVi3r-D5BY-_mQ9TcJQFxJN/view?usp=share_link"
   ]
  },
  {
   "cell_type": "code",
   "execution_count": null,
   "metadata": {
    "id": "PJnbprP8QGLx"
   },
   "outputs": [],
   "source": []
  }
 ],
 "metadata": {
  "colab": {
   "provenance": []
  },
  "kernelspec": {
   "display_name": "Python 3 (ipykernel)",
   "language": "python",
   "name": "python3"
  },
  "language_info": {
   "codemirror_mode": {
    "name": "ipython",
    "version": 3
   },
   "file_extension": ".py",
   "mimetype": "text/x-python",
   "name": "python",
   "nbconvert_exporter": "python",
   "pygments_lexer": "ipython3",
   "version": "3.11.5"
  }
 },
 "nbformat": 4,
 "nbformat_minor": 1
}
